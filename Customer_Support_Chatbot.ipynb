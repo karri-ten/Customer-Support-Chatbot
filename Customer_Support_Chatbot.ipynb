{
  "nbformat": 4,
  "nbformat_minor": 0,
  "metadata": {
    "colab": {
      "provenance": [],
      "authorship_tag": "ABX9TyM8KBMXmbnGejV6CgF/zqiJ",
      "include_colab_link": true
    },
    "kernelspec": {
      "name": "python3",
      "display_name": "Python 3"
    },
    "language_info": {
      "name": "python"
    }
  },
  "cells": [
    {
      "cell_type": "markdown",
      "metadata": {
        "id": "view-in-github",
        "colab_type": "text"
      },
      "source": [
        "<a href=\"https://colab.research.google.com/github/karri-ten/Customer-Support-Chatbot/blob/main/Customer_Support_Chatbot.ipynb\" target=\"_parent\"><img src=\"https://colab.research.google.com/assets/colab-badge.svg\" alt=\"Open In Colab\"/></a>"
      ]
    },
    {
      "cell_type": "markdown",
      "source": [
        "# Create a Tech Gadget Customer Support Chatbot\n",
        "Imagine you own an online store that sells various tech gadgets. Customers frequently ask about product details, return policies, shipping options, and technical troubleshooting. Instead of handling every question manually, you decide to implement a simple chatbot to provide quick responses."
      ],
      "metadata": {
        "id": "07TvfZ1dDDIg"
      }
    },
    {
      "cell_type": "markdown",
      "source": [
        "# Chatbot Will Handle Queries Like\n",
        "\n",
        "<b>Product Information: </b>“Tell me about product X”, “Do you have smartwatches?”</n>\n",
        "<b>Shipping Details:</b> “How long does shipping take?”, “What shipping methods are available?”\n",
        "<b>Return Policy:</b> “What is your return policy?”, “How do I return a product?”\n",
        "<b>Technical Support:</b> “My gadget won’t turn on”, “How do I reset my device?”\n"
      ],
      "metadata": {
        "id": "kttUVX9uDLjY"
      }
    },
    {
      "cell_type": "code",
      "execution_count": 3,
      "metadata": {
        "colab": {
          "base_uri": "https://localhost:8080/"
        },
        "id": "W7fisBXECR_x",
        "outputId": "02ebc9d3-ab15-472f-9502-73e62d7d7632"
      },
      "outputs": [
        {
          "output_type": "stream",
          "name": "stdout",
          "text": [
            "You: hi\n",
            "Bot: Hello! Welcome to TechGadget Support. How can I assist you today?\n",
            "You: how to return\n",
            "Bot: To return a product, please visit our returns page for a step-by-step guide.\n",
            "You: shipping methods\n",
            "Bot: We offer standard, expedited, and overnight shipping.\n",
            "You: shipping time\n",
            "Bot: Shipping usually takes 3-5 business days.\n",
            "You: end\n",
            "Bot: I'm not sure how to respond to that. Can you try asking something else?\n",
            "You: bye\n",
            "Bot: Goodbye! If you have any more questions, we're here to help.\n"
          ]
        }
      ],
      "source": [
        "# Simple Customer Support Chatbot\n",
        "\n",
        "responses = [\n",
        "    (\"shipping time\", \"Shipping usually takes 3-5 business days.\"),\n",
        "    (\"shipping methods\", \"We offer standard, expedited, and overnight shipping.\"),\n",
        "    (\"return policy\", \"You can return products within 30 days of receipt for a full refund.\"),\n",
        "    (\"how to return\", \"To return a product, please visit our returns page for a step-by-step guide.\"),\n",
        "    (\"won’t turn on\", \"Make sure your gadget is charged. If it still won’t turn on, you can visit our troubleshooting page.\"),\n",
        "    (\"reset device\", \"To reset your device, hold down the power button for 10 seconds. If that doesn't work, please check the manual for a factory reset.\"),\n",
        "    (\"do you have smartwatches\", \"Yes, we have a variety of smartwatches. You can check them out on our products page.\"),\n",
        "    (\"bye\", \"Thank you for visiting TechGadget. If you have more questions, feel free to ask. Goodbye!\"),\n",
        "    (\"hi\", \"Hello! Welcome to TechGadget Support. How can I assist you today?\"),\n",
        "]\n",
        "\n",
        "def get_bot_response(user_input):\n",
        "      user_input = user_input.lower()\n",
        "\n",
        "      for keyword, response in responses:\n",
        "          if keyword in user_input:\n",
        "              return response\n",
        "\n",
        "      return \"I'm not sure how to respond to that. Can you try asking something else?\"\n",
        "\n",
        "while True:\n",
        "      user_input = input(\"You: \")\n",
        "      if user_input.lower() in [\"quit\", \"exit\", \"bye\"]:\n",
        "          print(\"Bot: Goodbye! If you have any more questions, we're here to help.\")\n",
        "          break\n",
        "\n",
        "      response = get_bot_response(user_input)\n",
        "      print(f\"Bot: {response}\")"
      ]
    },
    {
      "cell_type": "code",
      "source": [],
      "metadata": {
        "id": "tTno63lLFp_u"
      },
      "execution_count": null,
      "outputs": []
    }
  ]
}